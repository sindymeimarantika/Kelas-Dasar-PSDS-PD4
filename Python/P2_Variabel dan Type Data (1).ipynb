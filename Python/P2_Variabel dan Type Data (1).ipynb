{
 "cells": [
  {
   "cell_type": "markdown",
   "id": "2a67e1af",
   "metadata": {},
   "source": [
    "# Variabel"
   ]
  },
  {
   "cell_type": "code",
   "execution_count": 2,
   "id": "445196d2",
   "metadata": {},
   "outputs": [
    {
     "name": "stdout",
     "output_type": "stream",
     "text": [
      "bilangan itu adalah 10\n"
     ]
    }
   ],
   "source": [
    "# Membuat variabel\n",
    "A = 10 #A berarti variabel\n",
    "print(\"bilangan itu adalah\", A)"
   ]
  },
  {
   "cell_type": "code",
   "execution_count": 5,
   "id": "74ca946d",
   "metadata": {},
   "outputs": [
    {
     "name": "stdout",
     "output_type": "stream",
     "text": [
      "Aku suka buah mangga, apel, rambutan\n"
     ]
    }
   ],
   "source": [
    "a = \"mangga, apel, rambutan\"\n",
    "b = \"Aku suka buah\"\n",
    "print(b, a)"
   ]
  },
  {
   "cell_type": "markdown",
   "id": "b4053fad",
   "metadata": {},
   "source": [
    "# Tipe Data"
   ]
  },
  {
   "cell_type": "code",
   "execution_count": 8,
   "id": "65b4057a",
   "metadata": {},
   "outputs": [
    {
     "data": {
      "text/plain": [
       "int"
      ]
     },
     "execution_count": 8,
     "metadata": {},
     "output_type": "execute_result"
    }
   ],
   "source": [
    "#integer (int) = bilangan bulat\n",
    "a = 12\n",
    "type(a)"
   ]
  },
  {
   "cell_type": "code",
   "execution_count": 9,
   "id": "8c087d25",
   "metadata": {},
   "outputs": [
    {
     "data": {
      "text/plain": [
       "float"
      ]
     },
     "execution_count": 9,
     "metadata": {},
     "output_type": "execute_result"
    }
   ],
   "source": [
    "#float = bilangan desimal\n",
    "b = 10.4\n",
    "type(b)"
   ]
  },
  {
   "cell_type": "code",
   "execution_count": 17,
   "id": "4babd61f",
   "metadata": {},
   "outputs": [
    {
     "name": "stdout",
     "output_type": "stream",
     "text": [
      "Namaku sindy aku suka mie gacoan\n"
     ]
    }
   ],
   "source": [
    "#string (str) = kalimat\n",
    "c = \"sindy\"\n",
    "d = \"mie gacoan\"\n",
    "print(\"Namaku\", c, \"aku suka\", d)"
   ]
  },
  {
   "cell_type": "code",
   "execution_count": 15,
   "id": "ac5e781c",
   "metadata": {},
   "outputs": [
    {
     "data": {
      "text/plain": [
       "bool"
      ]
     },
     "execution_count": 15,
     "metadata": {},
     "output_type": "execute_result"
    }
   ],
   "source": [
    "#boolean = True atau False\n",
    "s = True\n",
    "type(s)"
   ]
  },
  {
   "cell_type": "code",
   "execution_count": 13,
   "id": "5f8f7c00",
   "metadata": {},
   "outputs": [
    {
     "data": {
      "text/plain": [
       "complex"
      ]
     },
     "execution_count": 13,
     "metadata": {},
     "output_type": "execute_result"
    }
   ],
   "source": [
    "#complex = bil kompleks ( hanya j saja)\n",
    "e = 1j + 6\n",
    "type(e)"
   ]
  },
  {
   "cell_type": "markdown",
   "id": "62e309c2",
   "metadata": {},
   "source": [
    "## Latihan"
   ]
  },
  {
   "cell_type": "code",
   "execution_count": 28,
   "id": "7e6e714f",
   "metadata": {},
   "outputs": [
    {
     "name": "stdout",
     "output_type": "stream",
     "text": [
      "<class 'str'>\n",
      "<class 'int'>\n",
      "<class 'float'>\n",
      "<class 'complex'>\n",
      "<class 'bool'>\n"
     ]
    }
   ],
   "source": [
    "#membuat 5 variabel + 5 type data\n",
    "a = \"Risa\"\n",
    "b = 12\n",
    "c = 60.5\n",
    "d = 2j + 1\n",
    "e = True\n",
    "print(type(a))\n",
    "print(type(b))\n",
    "print(type(c))\n",
    "print(type(d))\n",
    "print(type(e))"
   ]
  }
 ],
 "metadata": {
  "kernelspec": {
   "display_name": "Python 3",
   "language": "python",
   "name": "python3"
  },
  "language_info": {
   "codemirror_mode": {
    "name": "ipython",
    "version": 3
   },
   "file_extension": ".py",
   "mimetype": "text/x-python",
   "name": "python",
   "nbconvert_exporter": "python",
   "pygments_lexer": "ipython3",
   "version": "3.8.8"
  }
 },
 "nbformat": 4,
 "nbformat_minor": 5
}
