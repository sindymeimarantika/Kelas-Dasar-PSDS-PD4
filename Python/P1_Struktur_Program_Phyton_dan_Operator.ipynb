{
  "nbformat": 4,
  "nbformat_minor": 0,
  "metadata": {
    "colab": {
      "provenance": []
    },
    "kernelspec": {
      "name": "python3",
      "display_name": "Python 3"
    },
    "language_info": {
      "name": "python"
    }
  },
  "cells": [
    {
      "cell_type": "markdown",
      "source": [
        "#Struktur Program pada Python"
      ],
      "metadata": {
        "id": "oQeSG-Guitr2"
      }
    },
    {
      "cell_type": "markdown",
      "source": [
        "##**1. Statement**\n"
      ],
      "metadata": {
        "id": "TutrhFTto_KC"
      }
    },
    {
      "cell_type": "code",
      "source": [
        "print(\"belajar python\")\n",
        "print('hallo world!')\n",
        "print('Namaku Sindy usianku' \" 19 \" 'tahun')"
      ],
      "metadata": {
        "colab": {
          "base_uri": "https://localhost:8080/"
        },
        "id": "i1oywwZHjp5g",
        "outputId": "a1abfab5-3f10-4a88-e38d-6ae76238cbcb"
      },
      "execution_count": null,
      "outputs": [
        {
          "output_type": "stream",
          "name": "stdout",
          "text": [
            "belajar python\n",
            "hallo world!\n",
            "Namaku Sindy usianku 19 tahun\n"
          ]
        }
      ]
    },
    {
      "cell_type": "markdown",
      "source": [
        "##**2. Variables**"
      ],
      "metadata": {
        "id": "RGgnrz6BqCtF"
      }
    },
    {
      "cell_type": "code",
      "source": [
        "bilangan1 = 5\n",
        "bilangan2 = 10\n",
        "kalimat = 'Pejuang Data 3'\n",
        "print(kalimat)"
      ],
      "metadata": {
        "colab": {
          "base_uri": "https://localhost:8080/"
        },
        "id": "R5u0kiL0qPXn",
        "outputId": "8489f9c2-ef5d-438d-ec1f-c1e65a440f9a"
      },
      "execution_count": null,
      "outputs": [
        {
          "output_type": "stream",
          "name": "stdout",
          "text": [
            "Pejuang Data 3\n"
          ]
        }
      ]
    },
    {
      "cell_type": "markdown",
      "source": [
        "##**3. Literals**\n",
        "simbol untuk mengisi variabel"
      ],
      "metadata": {
        "id": "beiPKsOhq2j5"
      }
    },
    {
      "cell_type": "markdown",
      "source": [
        "##**4. Operator**"
      ],
      "metadata": {
        "id": "In0vJ-u_q_Md"
      }
    },
    {
      "cell_type": "code",
      "source": [
        "#Operator Aritmatika\n",
        "x = 10\n",
        "y = 2\n",
        "\n",
        "print('x+y=', x+y)\n",
        "print('x-y=', x-y)\n",
        "print('x/y=', x/y)\n",
        "print('x*y=', x*y)\n",
        "\n",
        "#Operator Perbandingan\n",
        "x=8\n",
        "y=5\n",
        "\n",
        "print('x=', x)\n",
        "print('x=', y)\n",
        "print('\\n')\n",
        "\n",
        "print('x==y hasilnya', x==y)\n",
        "print('x!=y hasilnya', x!=y)\n",
        "print('x>y hasilnya', x>y)\n",
        "print('x<y hasilnya', x<y)\n",
        "print('x>=y hasilnya', x>=y)\n",
        "print('x<=y hasilnya', x<=y)\n",
        "\n",
        "#Operator Logika\n",
        "print('Hasil dari True and True   :', True and True)\n",
        "print('Hasil dari True and False  :', True and False)\n",
        "print('Hasil dari False and True  :', False and True)\n",
        "print('Hasil dari False and False :', False and False)\n",
        " \n",
        "print('\\n')\n",
        " \n",
        "print('Hasil dari True or True   :', True or True)\n",
        "print('Hasil dari True or False  :', True or False)\n",
        "print('Hasil dari False or True  :', False or True)\n",
        "print('Hasil dari False or False :', False or False)\n",
        " \n",
        "print('\\n')\n",
        " \n",
        "print('Hasil dari not True  :', not True)\n",
        "print('Hasil dari not False :', not False)\n",
        "\n",
        "#Operator Bitwise\n",
        "x = 8\n",
        "y = 5\n",
        " \n",
        "print('x berisi angka',x ,'desimal atau',bin(x),'biner')\n",
        "print('y berisi angka',y ,'desimal atau',bin(y),'biner')\n",
        " \n",
        "print('\\n')\n",
        " \n",
        "print('x & y  :',x & y)\n",
        "print('x | y  :',x | y)\n",
        "print('x ^ y  :',x ^ y)\n",
        "print('~x     :',~x)\n",
        "print('x << 1 :',x << 1)\n",
        "print('x >> 1 :',x >> 1)\n",
        "\n",
        "#Operator Assigment\n",
        "x=15\n",
        "x+=5\n",
        "print('penjumlahan x+=5:',x)\n",
        "\n",
        "x=15\n",
        "x_=5\n",
        "print('pengurangan x-=5:',x)\n",
        "\n",
        "x=15\n",
        "x*=5\n",
        "print('perkalian x*=5:',x)\n",
        "\n",
        "x=15\n",
        "x/=5\n",
        "print('pembagian x/=5:',x)\n",
        "\n",
        "x=15\n",
        "x%=5\n",
        "print('modulus x%=5:',x)\n",
        "\n",
        "x=15\n",
        "x&=5\n",
        "print('Bit AND x&=5:',x)\n",
        "\n",
        "x=15\n",
        "x|=5\n",
        "print('Bit OR x|=5:',x)\n",
        "\n",
        "x=15\n",
        "x^=5\n",
        "print('Bit XOR x^=5:',x)\n",
        "\n",
        "x=15\n",
        "x<<=5\n",
        "print('Geser ke kanan x<<=5:',x)\n",
        "\n",
        "x=15\n",
        "x>>=5\n",
        "print('Geser ke kiri x>>=5:',x)"
      ],
      "metadata": {
        "colab": {
          "base_uri": "https://localhost:8080/"
        },
        "id": "m6JeE7ODrDcx",
        "outputId": "a27c46c7-e225-45e3-f733-edb2ded706d7"
      },
      "execution_count": null,
      "outputs": [
        {
          "output_type": "stream",
          "name": "stdout",
          "text": [
            "x+y= 12\n",
            "x-y= 8\n",
            "x/y= 5.0\n",
            "x*y= 20\n",
            "x= 8\n",
            "x= 5\n",
            "\n",
            "\n",
            "x==y hasilnya False\n",
            "x!=y hasilnya True\n",
            "x>y hasilnya True\n",
            "x<y hasilnya False\n",
            "x>=y hasilnya True\n",
            "x<=y hasilnya False\n",
            "Hasil dari True and True   : True\n",
            "Hasil dari True and False  : False\n",
            "Hasil dari False and True  : False\n",
            "Hasil dari False and False : False\n",
            "\n",
            "\n",
            "Hasil dari True or True   : True\n",
            "Hasil dari True or False  : True\n",
            "Hasil dari False or True  : True\n",
            "Hasil dari False or False : False\n",
            "\n",
            "\n",
            "Hasil dari not True  : False\n",
            "Hasil dari not False : True\n",
            "x berisi angka 8 desimal atau 0b1000 biner\n",
            "y berisi angka 5 desimal atau 0b101 biner\n",
            "\n",
            "\n",
            "x & y  : 0\n",
            "x | y  : 13\n",
            "x ^ y  : 13\n",
            "~x     : -9\n",
            "x << 1 : 16\n",
            "x >> 1 : 4\n",
            "penjumlahan x+=5: 20\n",
            "pengurangan x-=5: 15\n",
            "perkalian x*=5: 75\n",
            "pembagian x/=5: 3.0\n",
            "modulus x%=5: 0\n",
            "Bit AND x&=5: 5\n",
            "Bit OR x|=5: 15\n",
            "Bit XOR x^=5: 10\n",
            "Geser ke kanan x<<=5: 480\n",
            "Geser ke kiri x>>=5: 0\n"
          ]
        }
      ]
    },
    {
      "cell_type": "markdown",
      "source": [
        "##**5. Whitespace**"
      ],
      "metadata": {
        "id": "ouObPBI9rekf"
      }
    },
    {
      "cell_type": "code",
      "source": [
        "a = 5\n",
        "b = 10\n",
        "if b > a:\n",
        "  print(\"b lebih besar daripada a\")"
      ],
      "metadata": {
        "colab": {
          "base_uri": "https://localhost:8080/"
        },
        "id": "iCv6oqlP-1UN",
        "outputId": "25520ca6-e25d-4c27-af9d-03cdc38d7eb2"
      },
      "execution_count": null,
      "outputs": [
        {
          "output_type": "stream",
          "name": "stdout",
          "text": [
            "b lebih besar daripada a\n"
          ]
        }
      ]
    },
    {
      "cell_type": "markdown",
      "source": [
        "##**6. Comment**\n",
        "Baris yang tidak ada di ekseskusi saat run. Misal #digunakan untuk ...."
      ],
      "metadata": {
        "id": "9c4dDIK8_C6d"
      }
    }
  ]
}