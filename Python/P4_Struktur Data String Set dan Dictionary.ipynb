{
 "cells": [
  {
   "cell_type": "markdown",
   "id": "ad03b796",
   "metadata": {},
   "source": [
    "## String\n",
    "ditulis dengan \"...\" atau '...'"
   ]
  },
  {
   "cell_type": "code",
   "execution_count": 1,
   "id": "4b8d1229",
   "metadata": {},
   "outputs": [
    {
     "name": "stdout",
     "output_type": "stream",
     "text": [
      "Aku belajar\n",
      "PSDS\n",
      "Bersama Anggit\n"
     ]
    }
   ],
   "source": [
    "#menulis string untuk 3 paragraf\n",
    "B = \"\"\"Aku belajar\n",
    "PSDS\n",
    "Bersama Anggit\"\"\"\n",
    "print(B)"
   ]
  },
  {
   "cell_type": "code",
   "execution_count": 4,
   "id": "2e3d5565",
   "metadata": {},
   "outputs": [
    {
     "name": "stdout",
     "output_type": "stream",
     "text": [
      "Belaj\n",
      "laj\n",
      "tring\n",
      " Struktur\n"
     ]
    }
   ],
   "source": [
    "#slicing pada string\n",
    "A = \"Belajar Struktur Data String\"\n",
    "print(A[:5])\n",
    "print(A[2:5])\n",
    "print(A[-5:])\n",
    "print(A[7:16])"
   ]
  },
  {
   "cell_type": "markdown",
   "id": "eef38b01",
   "metadata": {},
   "source": [
    "### Latihan "
   ]
  },
  {
   "cell_type": "code",
   "execution_count": 15,
   "id": "4f0843c4",
   "metadata": {},
   "outputs": [
    {
     "name": "stdout",
     "output_type": "stream",
     "text": [
      "elajar Struktur Data String\n",
      "Belajar Struktur Data Strin\n",
      "elajar Struktur Data Strin\n"
     ]
    }
   ],
   "source": [
    "A = \"Belajar Struktur Data String\"\n",
    "\n",
    "#slicing karakter pertama dan terakhir\n",
    "print(A[1:27])"
   ]
  },
  {
   "cell_type": "code",
   "execution_count": 13,
   "id": "27580f65",
   "metadata": {},
   "outputs": [
    {
     "data": {
      "text/plain": [
       "'BELAJAR STRUKTUR DATA STRING'"
      ]
     },
     "execution_count": 13,
     "metadata": {},
     "output_type": "execute_result"
    }
   ],
   "source": [
    "#memodifikasi string\n",
    "A = \"Belajar Struktur Data String\"\n",
    "\n",
    "## upper()\n",
    "A.upper()"
   ]
  },
  {
   "cell_type": "code",
   "execution_count": 14,
   "id": "6228d289",
   "metadata": {},
   "outputs": [
    {
     "data": {
      "text/plain": [
       "'belajar struktur data string'"
      ]
     },
     "execution_count": 14,
     "metadata": {},
     "output_type": "execute_result"
    }
   ],
   "source": [
    "## lower()\n",
    "A.lower()"
   ]
  },
  {
   "cell_type": "code",
   "execution_count": null,
   "id": "01a0f626",
   "metadata": {},
   "outputs": [],
   "source": [
    "## strip()\n",
    "untuk menghapus "
   ]
  },
  {
   "cell_type": "code",
   "execution_count": 19,
   "id": "2445e687",
   "metadata": {},
   "outputs": [
    {
     "data": {
      "text/plain": [
       "'Belajar Striktir Data String'"
      ]
     },
     "execution_count": 19,
     "metadata": {},
     "output_type": "execute_result"
    }
   ],
   "source": [
    "## replace()\n",
    "A.replace('u', 'i')"
   ]
  },
  {
   "cell_type": "code",
   "execution_count": 20,
   "id": "71dd7c20",
   "metadata": {},
   "outputs": [
    {
     "data": {
      "text/plain": [
       "['Belajar', 'Struktur', 'Data', 'String']"
      ]
     },
     "execution_count": 20,
     "metadata": {},
     "output_type": "execute_result"
    }
   ],
   "source": [
    "## split()\n",
    "A.split()"
   ]
  },
  {
   "cell_type": "code",
   "execution_count": 21,
   "id": "449b4a95",
   "metadata": {},
   "outputs": [
    {
     "data": {
      "text/plain": [
       "'Belajar Struktur Data String Pejuang Data 4.0'"
      ]
     },
     "execution_count": 21,
     "metadata": {},
     "output_type": "execute_result"
    }
   ],
   "source": [
    "#menggabungkan string\n",
    "\n",
    "A = \"Belajar Struktur Data String\"\n",
    "B = \"Pejuang Data 4.0\"\n",
    "A + \" \" + B"
   ]
  },
  {
   "cell_type": "markdown",
   "id": "ffc3ebfe",
   "metadata": {},
   "source": [
    "## Set\n",
    "union(mengabungkan) dan intersection(irisan). Dengan kurawal dan elemen dipisahkan dengan koma. tidak memiliki urutan indeks"
   ]
  },
  {
   "cell_type": "code",
   "execution_count": 22,
   "id": "655de0c7",
   "metadata": {},
   "outputs": [
    {
     "data": {
      "text/plain": [
       "{(2+2j), 1, 'dua'}"
      ]
     },
     "execution_count": 22,
     "metadata": {},
     "output_type": "execute_result"
    }
   ],
   "source": [
    "S1 = {1, \"dua\", True, 2+2j}\n",
    "S1"
   ]
  },
  {
   "cell_type": "code",
   "execution_count": null,
   "id": "fcbd19e9",
   "metadata": {},
   "outputs": [],
   "source": [
    "#Sifat-sifat Data Set\n",
    "\n",
    "##tidak memiliki urutan(tidak bisa dipanggil per urutan)"
   ]
  },
  {
   "cell_type": "code",
   "execution_count": 26,
   "id": "69ea2565",
   "metadata": {},
   "outputs": [
    {
     "data": {
      "text/plain": [
       "{(1+11j), 2, 'dua'}"
      ]
     },
     "execution_count": 26,
     "metadata": {},
     "output_type": "execute_result"
    }
   ],
   "source": [
    "##dapat menghilangkan data duplikat\n",
    "A = {2, \"dua\", \"dua\", 2, 1+11j}\n",
    "A"
   ]
  },
  {
   "cell_type": "code",
   "execution_count": 31,
   "id": "14f59283",
   "metadata": {},
   "outputs": [
    {
     "name": "stdout",
     "output_type": "stream",
     "text": [
      "{2, 3, 4, 5, 6, 7, 8}\n",
      "{2}\n"
     ]
    }
   ],
   "source": [
    "ganjil = {1,3,5,7}\n",
    "genap = {2,4,6,8}\n",
    "prima = {2,3,5,7}\n",
    "\n",
    "#union\n",
    "print(prima.union(genap))\n",
    "\n",
    "#intersection\n",
    "print(genap.intersection(prima))"
   ]
  },
  {
   "cell_type": "markdown",
   "id": "1977c687",
   "metadata": {},
   "source": [
    "## Dictionary"
   ]
  },
  {
   "cell_type": "code",
   "execution_count": 45,
   "id": "fce690c7",
   "metadata": {},
   "outputs": [
    {
     "data": {
      "text/plain": [
       "{1: 'value', 'key': 2}"
      ]
     },
     "execution_count": 45,
     "metadata": {},
     "output_type": "execute_result"
    }
   ],
   "source": [
    "#contoh dictionary\n",
    "D = {1:'value', 'key':2}\n",
    "D"
   ]
  },
  {
   "cell_type": "code",
   "execution_count": 47,
   "id": "75e80d9d",
   "metadata": {},
   "outputs": [
    {
     "data": {
      "text/plain": [
       "{1: 'aku', (3+4j): 2, 5.5: True}"
      ]
     },
     "execution_count": 47,
     "metadata": {},
     "output_type": "execute_result"
    }
   ],
   "source": [
    "o = {1:'aku', 3+4j:2, 5.5:True}\n",
    "o"
   ]
  },
  {
   "cell_type": "code",
   "execution_count": 36,
   "id": "59c93de1",
   "metadata": {},
   "outputs": [
    {
     "data": {
      "text/plain": [
       "[8, True, 'dua', (2+1j)]"
      ]
     },
     "execution_count": 36,
     "metadata": {},
     "output_type": "execute_result"
    }
   ],
   "source": [
    "#menggabungkan data list ke data dictionary\n",
    "\n",
    "List = [8, True, \"dua\", 2+1j]\n",
    "List"
   ]
  },
  {
   "cell_type": "code",
   "execution_count": 39,
   "id": "7b35a18b",
   "metadata": {},
   "outputs": [
    {
     "data": {
      "text/plain": [
       "{1: 'aku', (3+4j): 2, 5.5: True, 'list': [8, True, 'dua', (2+1j)]}"
      ]
     },
     "execution_count": 39,
     "metadata": {},
     "output_type": "execute_result"
    }
   ],
   "source": [
    "Dic = {1:'aku', 3+4j:2, 5.5:True, 'list' : List}\n",
    "Dic"
   ]
  },
  {
   "cell_type": "code",
   "execution_count": 46,
   "id": "a89f3499",
   "metadata": {},
   "outputs": [
    {
     "name": "stdout",
     "output_type": "stream",
     "text": [
      "D['key'] = 2\n"
     ]
    }
   ],
   "source": [
    "#memanggil elemen berdasarkan key (value tidak bisa dipanggil)\n",
    "print(\"D['key'] =\", D['key']);"
   ]
  },
  {
   "cell_type": "markdown",
   "id": "3eb77083",
   "metadata": {},
   "source": [
    "### Latihan"
   ]
  },
  {
   "cell_type": "code",
   "execution_count": 57,
   "id": "e9357a4e",
   "metadata": {},
   "outputs": [
    {
     "data": {
      "text/plain": [
       "{2: 'haha', 'kpb': 3.5, 1: 'pdb'}"
      ]
     },
     "execution_count": 57,
     "metadata": {},
     "output_type": "execute_result"
    }
   ],
   "source": [
    "A = {2 : 'haha', 'kpb' : 3.5, 1 : 'pdb'}\n",
    "A"
   ]
  },
  {
   "cell_type": "code",
   "execution_count": 56,
   "id": "3292b7d1",
   "metadata": {},
   "outputs": [
    {
     "name": "stdout",
     "output_type": "stream",
     "text": [
      "A['kpb'] = 3.5\n"
     ]
    }
   ],
   "source": [
    "#memanggil key\n",
    "print(\"A['kpb'] =\", A['kpb']);"
   ]
  },
  {
   "cell_type": "code",
   "execution_count": 59,
   "id": "b597c1de",
   "metadata": {},
   "outputs": [
    {
     "name": "stdout",
     "output_type": "stream",
     "text": [
      "A[2] = haha\n"
     ]
    }
   ],
   "source": [
    "print(\"A[2] =\", A[2]);"
   ]
  },
  {
   "cell_type": "code",
   "execution_count": 60,
   "id": "90e53231",
   "metadata": {},
   "outputs": [
    {
     "name": "stdout",
     "output_type": "stream",
     "text": [
      "A[1] = pdb\n"
     ]
    }
   ],
   "source": [
    "print(\"A[1] =\", A[1]);"
   ]
  }
 ],
 "metadata": {
  "kernelspec": {
   "display_name": "Python 3",
   "language": "python",
   "name": "python3"
  },
  "language_info": {
   "codemirror_mode": {
    "name": "ipython",
    "version": 3
   },
   "file_extension": ".py",
   "mimetype": "text/x-python",
   "name": "python",
   "nbconvert_exporter": "python",
   "pygments_lexer": "ipython3",
   "version": "3.8.8"
  }
 },
 "nbformat": 4,
 "nbformat_minor": 5
}
