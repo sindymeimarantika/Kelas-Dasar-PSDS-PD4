{
  "cells": [
    {
      "cell_type": "markdown",
      "id": "07687d6b-5e4d-4a93-bd71-d45b8ae72582",
      "metadata": {
        "id": "07687d6b-5e4d-4a93-bd71-d45b8ae72582"
      },
      "source": [
        "# Biodata Pemilik Notebook"
      ]
    },
    {
      "cell_type": "markdown",
      "id": "b31edc20-60fe-4ac2-b266-5dd585133e6a",
      "metadata": {
        "id": "b31edc20-60fe-4ac2-b266-5dd585133e6a"
      },
      "source": [
        "```\n",
        "Nama  : Sindy Mei Marantika\n",
        "NIM   : 2100015041\n",
        "PD    : 4.0\n",
        "Kelas : Dasar\n",
        "email : sindy2100015041@webmail.uad.ac.id\n",
        "```"
      ]
    },
    {
      "cell_type": "markdown",
      "id": "dcc20efa-b78b-46a3-970b-9b93da5c00d7",
      "metadata": {
        "id": "dcc20efa-b78b-46a3-970b-9b93da5c00d7"
      },
      "source": [
        "## Pernyataan"
      ]
    },
    {
      "cell_type": "markdown",
      "id": "921fb471-c9e1-4a56-9827-cdc8453e84f4",
      "metadata": {
        "id": "921fb471-c9e1-4a56-9827-cdc8453e84f4"
      },
      "source": [
        "Dengan ini saya menyatakan bahwa `Final Project Kelas Dasar 4.0` dikerjakan oleh saya sendiri tanpa ada bantuan dari orang lain."
      ]
    },
    {
      "cell_type": "markdown",
      "id": "7b41de10-9116-43b0-abd1-77bf239690f0",
      "metadata": {
        "id": "7b41de10-9116-43b0-abd1-77bf239690f0"
      },
      "source": [
        "# Soal 1"
      ]
    },
    {
      "cell_type": "markdown",
      "id": "8f120053-9f03-4b9d-bca7-081f00b8ebd6",
      "metadata": {
        "id": "8f120053-9f03-4b9d-bca7-081f00b8ebd6"
      },
      "source": [
        "Buatlah dua list dan diberi nama `Nama` dan `NIM`. Datanya sebagai berikut."
      ]
    },
    {
      "cell_type": "markdown",
      "id": "473b8f78-b25c-44d1-8863-79126e55e323",
      "metadata": {
        "id": "473b8f78-b25c-44d1-8863-79126e55e323"
      },
      "source": [
        "|Nama|NIM|\n",
        "|---|---|\n",
        "|||\n",
        "|Wisnu Catur Rachmad tulloh |2100015049|\n",
        "|Sindy Mei Marantika|2100015041|\n",
        "|Zakiah Intan Maula\t|2100015043|\n",
        "|Januar Nur Rasyid\t|2100015006|\n",
        "|Lisa Nessa Safitri\t|2100015037|\n",
        "|Hasan Darmawan\t|2215015035|\n",
        "|SAIFUL ANDIKA\t|2100015051|\n",
        "|Maya Isafa Sam Saputri| \t2200015023|\n",
        "|Didi Cahyadi\t|2200015012|\n",
        "|Izza Anggitha Aryanawa| \t2200015032|\n",
        "|Khusnul Khotimah\t|2100015009|\n",
        "|Badzliana Aqmar Suris \t|2100015016|\n",
        "|Anggit Larasati\t|2100015036|\n",
        "|Sona Regina Salsabila\t|2100015053|\n",
        "|LELY AMALIA SAPUTRI\t|2100015050|\n",
        "|Nastasya Dewi\t|2100015010|\n",
        "|Ragita Anillya Putri Prasetianto|\t2100015002|\n",
        "|Muhammad Fatah Hidayat\t|2200015002|\n",
        "|Dwi Agustia\t|2000015016|\n",
        "|Nia Andriani Laila\t|2000015002|\n",
        "|Winarsi J. Bidul\t|2000015011|\n",
        "|Heru Pranoto\t|2211015008|\n",
        "|Reynaldi Ikbar Surya Andhika| \t2200015007|\n",
        "|Muhammad Rafiq Amrullah|\t2200015028|\n",
        "|Muhammad Mujahid Al-makky\t|2200015006|\n",
        "|Fauzi Ramadhan\t|2000015018|\n",
        "|Vinna Rahmasari|\t2000015023|\n",
        "|Shintia Yulita Sari|\t1900015057|\n",
        "|Maretta Mia Audina|\t2200015010|\n",
        "|Salma Aulia Imama \t|2200015009|\n",
        "|Dhea Emma Karniasari \t|2200015024|\n",
        "|Khoirun Nisya|\t2200015033|\n",
        "|PUSPITA AMBARWATI|\t2000015022|"
      ]
    },
    {
      "cell_type": "code",
      "execution_count": 3,
      "id": "df238137-68f3-416b-a56c-a61bddd7521e",
      "metadata": {
        "colab": {
          "base_uri": "https://localhost:8080/"
        },
        "id": "df238137-68f3-416b-a56c-a61bddd7521e",
        "outputId": "0c49bd40-630a-4185-9958-0868aeba9e4b"
      },
      "outputs": [
        {
          "output_type": "stream",
          "name": "stdout",
          "text": [
            "['Wisnu Catur Rachmad tulloh', 'Sindy Mei Marantika', 'Zakiah Intan Maula', 'Januar Nur Rasyid', 'Lisa Nessa Safitri', 'Hasan Darmawan', 'SAIFUL ANDIKA', 'Maya Isafa Sam Saputri', 'Didi Cahyadi', 'Izza Anggitha Aryanawa', 'Khusnul Khotimah', 'Badzliana Aqmar Suris', 'Anggit Larasati', 'Sona Regina Salsabila', 'LELY AMALIA SAPUTRI', 'Nastasya Dewi', 'Ragita Anillya Putri Prasetianto', 'Muhammad Fatah Hidayat', 'Dwi Agustia', 'Nia Andriani Laila', 'Winarsi J. Bidul', 'Heru Pranoto', 'Reynaldi Ikbar Surya Andhika', 'Muhammad Rafiq Amrullah', 'Muhammad Mujahid Al-makky', 'Fauzi Ramadhan', 'Vinna Rahmasari', 'Shintia Yulita Sari', 'Maretta Mia Audina', 'Salma Aulia Imama', 'Dhea Emma Karniasari', 'Khoirun Nisya', 'PUSPITA AMBARWATI']\n"
          ]
        }
      ],
      "source": [
        "Nama = ['Wisnu Catur Rachmad tulloh', 'Sindy Mei Marantika', 'Zakiah Intan Maula', 'Januar Nur Rasyid', 'Lisa Nessa Safitri',\n",
        "        'Hasan Darmawan', 'SAIFUL ANDIKA', 'Maya Isafa Sam Saputri', 'Didi Cahyadi', 'Izza Anggitha Aryanawa', 'Khusnul Khotimah', \n",
        "        'Badzliana Aqmar Suris', 'Anggit Larasati', 'Sona Regina Salsabila', 'LELY AMALIA SAPUTRI', 'Nastasya Dewi', \n",
        "        'Ragita Anillya Putri Prasetianto', 'Muhammad Fatah Hidayat', 'Dwi Agustia', 'Nia Andriani Laila', 'Winarsi J. Bidul',\n",
        "        'Heru Pranoto', 'Reynaldi Ikbar Surya Andhika',\t'Muhammad Rafiq Amrullah', 'Muhammad Mujahid Al-makky', 'Fauzi Ramadhan',\n",
        "        'Vinna Rahmasari', 'Shintia Yulita Sari', 'Maretta Mia Audina',\t'Salma Aulia Imama', 'Dhea Emma Karniasari', 'Khoirun Nisya', \n",
        "        'PUSPITA AMBARWATI']\n",
        "print(Nama)"
      ]
    },
    {
      "cell_type": "code",
      "source": [
        "Nim = [2100015049, 2100015041, 2100015043, 2100015006, 2100015037, 2215015035, 2100015051, 2200015023, 2200015012, \n",
        "       2200015032, 2100015009, 2100015016, 2100015036, 2100015053, 2100015050, 2100015010, 2100015002, 2200015002, \n",
        "       2000015016, 2000015002, 2000015011, 2211015008, 2200015007, 2200015028, 2200015006, 2000015018, 2000015023,\n",
        "       1900015057, 2200015010, 2200015009, 2200015024, 2200015033, 2000015022]\n",
        "print(Nim)"
      ],
      "metadata": {
        "colab": {
          "base_uri": "https://localhost:8080/"
        },
        "id": "uLwb6wvo-j-i",
        "outputId": "f7d30b44-57ca-4e9b-8980-6cb3c10a4e3a"
      },
      "id": "uLwb6wvo-j-i",
      "execution_count": 4,
      "outputs": [
        {
          "output_type": "stream",
          "name": "stdout",
          "text": [
            "[2100015049, 2100015041, 2100015043, 2100015006, 2100015037, 2215015035, 2100015051, 2200015023, 2200015012, 2200015032, 2100015009, 2100015016, 2100015036, 2100015053, 2100015050, 2100015010, 2100015002, 2200015002, 2000015016, 2000015002, 2000015011, 2211015008, 2200015007, 2200015028, 2200015006, 2000015018, 2000015023, 1900015057, 2200015010, 2200015009, 2200015024, 2200015033, 2000015022]\n"
          ]
        }
      ]
    },
    {
      "cell_type": "markdown",
      "id": "0c566036-6a11-40ef-838e-82ce905e1ee7",
      "metadata": {
        "id": "0c566036-6a11-40ef-838e-82ce905e1ee7"
      },
      "source": [
        "# Soal 2"
      ]
    },
    {
      "cell_type": "markdown",
      "id": "125ff3c2-02f9-404b-adfe-430377778b9a",
      "metadata": {
        "id": "125ff3c2-02f9-404b-adfe-430377778b9a"
      },
      "source": [
        "Selanjutnya dari data diatas buatlah sebuah variabel `Angkatan` yang diperoleh dengan melakukan perulangan dan if statment pada variabel `NIM`."
      ]
    },
    {
      "cell_type": "code",
      "execution_count": 20,
      "id": "48c23645-549f-408f-b78d-d2ac196a3009",
      "metadata": {
        "colab": {
          "base_uri": "https://localhost:8080/"
        },
        "id": "48c23645-549f-408f-b78d-d2ac196a3009",
        "outputId": "23727cdf-d5d4-4186-a4ed-d458a72c87ed"
      },
      "outputs": [
        {
          "output_type": "stream",
          "name": "stdout",
          "text": [
            "['21', '21', '21', '21', '21', '22', '21', '22', '22', '22', '21', '21', '21', '21', '21', '21', '21', '22', '20', '20', '20', '22', '22', '22', '22', '20', '20', '19', '22', '22', '22', '22', '20']\n"
          ]
        }
      ],
      "source": [
        "Angkatan = []\n",
        "for n in range(len(Nim)):\n",
        "  if Nim [n] > 19*10**8 and Nim [n] < 20*10**8:\n",
        "    Angkatan.append('19')\n",
        "  elif Nim [n] > 20*10**8 and Nim [n] < 21*10**8:\n",
        "    Angkatan.append('20')\n",
        "  elif Nim [n] > 21*10**8 and Nim [n] < 22*10**8:\n",
        "    Angkatan.append('21')\n",
        "  elif Nim [n] > 22*10**8 and Nim [n] < 23*10**8:\n",
        "    Angkatan.append('22')\n",
        "\n",
        "print(Angkatan)"
      ]
    },
    {
      "cell_type": "markdown",
      "id": "d1e00843-e11e-4b40-b0e2-8d7bff5ee08b",
      "metadata": {
        "id": "d1e00843-e11e-4b40-b0e2-8d7bff5ee08b"
      },
      "source": [
        "# Soal 3 "
      ]
    },
    {
      "cell_type": "markdown",
      "id": "564932e9-573b-4631-880e-cb2c97564dab",
      "metadata": {
        "id": "564932e9-573b-4631-880e-cb2c97564dab"
      },
      "source": [
        "Setelah menemukan variabel `Angkatan` silahkan untuk membuat dictionary `Nama`,`NIM`, dan `Angkatan`."
      ]
    },
    {
      "cell_type": "code",
      "execution_count": 6,
      "id": "e878e6ae-6911-4ebe-bfac-80ac7d250607",
      "metadata": {
        "id": "e878e6ae-6911-4ebe-bfac-80ac7d250607",
        "colab": {
          "base_uri": "https://localhost:8080/"
        },
        "outputId": "06729ee5-e0a0-4b59-db8d-5b88e4795668"
      },
      "outputs": [
        {
          "output_type": "stream",
          "name": "stdout",
          "text": [
            "{'Nama Mahasiswa': ['Wisnu Catur Rachmad tulloh', 'Sindy Mei Marantika', 'Zakiah Intan Maula', 'Januar Nur Rasyid', 'Lisa Nessa Safitri', 'Hasan Darmawan', 'SAIFUL ANDIKA', 'Maya Isafa Sam Saputri', 'Didi Cahyadi', 'Izza Anggitha Aryanawa', 'Khusnul Khotimah', 'Badzliana Aqmar Suris', 'Anggit Larasati', 'Sona Regina Salsabila', 'LELY AMALIA SAPUTRI', 'Nastasya Dewi', 'Ragita Anillya Putri Prasetianto', 'Muhammad Fatah Hidayat', 'Dwi Agustia', 'Nia Andriani Laila', 'Winarsi J. Bidul', 'Heru Pranoto', 'Reynaldi Ikbar Surya Andhika', 'Muhammad Rafiq Amrullah', 'Muhammad Mujahid Al-makky', 'Fauzi Ramadhan', 'Vinna Rahmasari', 'Shintia Yulita Sari', 'Maretta Mia Audina', 'Salma Aulia Imama', 'Dhea Emma Karniasari', 'Khoirun Nisya', 'PUSPITA AMBARWATI'], 'Nim': [2100015049, 2100015041, 2100015043, 2100015006, 2100015037, 2215015035, 2100015051, 2200015023, 2200015012, 2200015032, 2100015009, 2100015016, 2100015036, 2100015053, 2100015050, 2100015010, 2100015002, 2200015002, 2000015016, 2000015002, 2000015011, 2211015008, 2200015007, 2200015028, 2200015006, 2000015018, 2000015023, 1900015057, 2200015010, 2200015009, 2200015024, 2200015033, 2000015022], 'Angkatan': ['21', '21', '21', '21', '21', '22', '21', '22', '22', '22', '21', '21', '21', '21', '21', '21', '21', '22', '20', '20', '20', '22', '22', '22', '22', '20', '20', '19', '22', '22', '22', '22', '20']}\n"
          ]
        }
      ],
      "source": [
        "dict_mahasiswa = {'Nama Mahasiswa' : Nama, 'Nim' : Nim, 'Angkatan' : Angkatan}\n",
        "print(dict_mahasiswa)"
      ]
    },
    {
      "cell_type": "markdown",
      "id": "7d21cf23-1f75-45c8-850a-021a591c78bc",
      "metadata": {
        "id": "7d21cf23-1f75-45c8-850a-021a591c78bc"
      },
      "source": [
        "# Soal 4"
      ]
    },
    {
      "cell_type": "markdown",
      "id": "81a17f42-68f4-438a-9f2f-6c8f91c5c6d7",
      "metadata": {
        "id": "81a17f42-68f4-438a-9f2f-6c8f91c5c6d7"
      },
      "source": [
        "Lakukan convert kedalam bentuk data frame dan beri nama `df`"
      ]
    },
    {
      "cell_type": "code",
      "execution_count": 7,
      "id": "bd74ba20-fa85-4f41-9b81-ba165f6fd95f",
      "metadata": {
        "id": "bd74ba20-fa85-4f41-9b81-ba165f6fd95f",
        "colab": {
          "base_uri": "https://localhost:8080/",
          "height": 1000
        },
        "outputId": "eea0e01f-5c93-4ca9-89a9-1d9fcafa91b0"
      },
      "outputs": [
        {
          "output_type": "execute_result",
          "data": {
            "text/plain": [
              "                      Nama Mahasiswa         Nim Angkatan\n",
              "0         Wisnu Catur Rachmad tulloh  2100015049       21\n",
              "1                Sindy Mei Marantika  2100015041       21\n",
              "2                 Zakiah Intan Maula  2100015043       21\n",
              "3                  Januar Nur Rasyid  2100015006       21\n",
              "4                 Lisa Nessa Safitri  2100015037       21\n",
              "5                     Hasan Darmawan  2215015035       22\n",
              "6                      SAIFUL ANDIKA  2100015051       21\n",
              "7             Maya Isafa Sam Saputri  2200015023       22\n",
              "8                       Didi Cahyadi  2200015012       22\n",
              "9             Izza Anggitha Aryanawa  2200015032       22\n",
              "10                  Khusnul Khotimah  2100015009       21\n",
              "11             Badzliana Aqmar Suris  2100015016       21\n",
              "12                   Anggit Larasati  2100015036       21\n",
              "13             Sona Regina Salsabila  2100015053       21\n",
              "14               LELY AMALIA SAPUTRI  2100015050       21\n",
              "15                     Nastasya Dewi  2100015010       21\n",
              "16  Ragita Anillya Putri Prasetianto  2100015002       21\n",
              "17            Muhammad Fatah Hidayat  2200015002       22\n",
              "18                       Dwi Agustia  2000015016       20\n",
              "19                Nia Andriani Laila  2000015002       20\n",
              "20                  Winarsi J. Bidul  2000015011       20\n",
              "21                      Heru Pranoto  2211015008       22\n",
              "22      Reynaldi Ikbar Surya Andhika  2200015007       22\n",
              "23           Muhammad Rafiq Amrullah  2200015028       22\n",
              "24         Muhammad Mujahid Al-makky  2200015006       22\n",
              "25                    Fauzi Ramadhan  2000015018       20\n",
              "26                   Vinna Rahmasari  2000015023       20\n",
              "27               Shintia Yulita Sari  1900015057       19\n",
              "28                Maretta Mia Audina  2200015010       22\n",
              "29                 Salma Aulia Imama  2200015009       22\n",
              "30              Dhea Emma Karniasari  2200015024       22\n",
              "31                     Khoirun Nisya  2200015033       22\n",
              "32                 PUSPITA AMBARWATI  2000015022       20"
            ],
            "text/html": [
              "\n",
              "  <div id=\"df-b5036649-d436-4254-a532-25d0487a0523\">\n",
              "    <div class=\"colab-df-container\">\n",
              "      <div>\n",
              "<style scoped>\n",
              "    .dataframe tbody tr th:only-of-type {\n",
              "        vertical-align: middle;\n",
              "    }\n",
              "\n",
              "    .dataframe tbody tr th {\n",
              "        vertical-align: top;\n",
              "    }\n",
              "\n",
              "    .dataframe thead th {\n",
              "        text-align: right;\n",
              "    }\n",
              "</style>\n",
              "<table border=\"1\" class=\"dataframe\">\n",
              "  <thead>\n",
              "    <tr style=\"text-align: right;\">\n",
              "      <th></th>\n",
              "      <th>Nama Mahasiswa</th>\n",
              "      <th>Nim</th>\n",
              "      <th>Angkatan</th>\n",
              "    </tr>\n",
              "  </thead>\n",
              "  <tbody>\n",
              "    <tr>\n",
              "      <th>0</th>\n",
              "      <td>Wisnu Catur Rachmad tulloh</td>\n",
              "      <td>2100015049</td>\n",
              "      <td>21</td>\n",
              "    </tr>\n",
              "    <tr>\n",
              "      <th>1</th>\n",
              "      <td>Sindy Mei Marantika</td>\n",
              "      <td>2100015041</td>\n",
              "      <td>21</td>\n",
              "    </tr>\n",
              "    <tr>\n",
              "      <th>2</th>\n",
              "      <td>Zakiah Intan Maula</td>\n",
              "      <td>2100015043</td>\n",
              "      <td>21</td>\n",
              "    </tr>\n",
              "    <tr>\n",
              "      <th>3</th>\n",
              "      <td>Januar Nur Rasyid</td>\n",
              "      <td>2100015006</td>\n",
              "      <td>21</td>\n",
              "    </tr>\n",
              "    <tr>\n",
              "      <th>4</th>\n",
              "      <td>Lisa Nessa Safitri</td>\n",
              "      <td>2100015037</td>\n",
              "      <td>21</td>\n",
              "    </tr>\n",
              "    <tr>\n",
              "      <th>5</th>\n",
              "      <td>Hasan Darmawan</td>\n",
              "      <td>2215015035</td>\n",
              "      <td>22</td>\n",
              "    </tr>\n",
              "    <tr>\n",
              "      <th>6</th>\n",
              "      <td>SAIFUL ANDIKA</td>\n",
              "      <td>2100015051</td>\n",
              "      <td>21</td>\n",
              "    </tr>\n",
              "    <tr>\n",
              "      <th>7</th>\n",
              "      <td>Maya Isafa Sam Saputri</td>\n",
              "      <td>2200015023</td>\n",
              "      <td>22</td>\n",
              "    </tr>\n",
              "    <tr>\n",
              "      <th>8</th>\n",
              "      <td>Didi Cahyadi</td>\n",
              "      <td>2200015012</td>\n",
              "      <td>22</td>\n",
              "    </tr>\n",
              "    <tr>\n",
              "      <th>9</th>\n",
              "      <td>Izza Anggitha Aryanawa</td>\n",
              "      <td>2200015032</td>\n",
              "      <td>22</td>\n",
              "    </tr>\n",
              "    <tr>\n",
              "      <th>10</th>\n",
              "      <td>Khusnul Khotimah</td>\n",
              "      <td>2100015009</td>\n",
              "      <td>21</td>\n",
              "    </tr>\n",
              "    <tr>\n",
              "      <th>11</th>\n",
              "      <td>Badzliana Aqmar Suris</td>\n",
              "      <td>2100015016</td>\n",
              "      <td>21</td>\n",
              "    </tr>\n",
              "    <tr>\n",
              "      <th>12</th>\n",
              "      <td>Anggit Larasati</td>\n",
              "      <td>2100015036</td>\n",
              "      <td>21</td>\n",
              "    </tr>\n",
              "    <tr>\n",
              "      <th>13</th>\n",
              "      <td>Sona Regina Salsabila</td>\n",
              "      <td>2100015053</td>\n",
              "      <td>21</td>\n",
              "    </tr>\n",
              "    <tr>\n",
              "      <th>14</th>\n",
              "      <td>LELY AMALIA SAPUTRI</td>\n",
              "      <td>2100015050</td>\n",
              "      <td>21</td>\n",
              "    </tr>\n",
              "    <tr>\n",
              "      <th>15</th>\n",
              "      <td>Nastasya Dewi</td>\n",
              "      <td>2100015010</td>\n",
              "      <td>21</td>\n",
              "    </tr>\n",
              "    <tr>\n",
              "      <th>16</th>\n",
              "      <td>Ragita Anillya Putri Prasetianto</td>\n",
              "      <td>2100015002</td>\n",
              "      <td>21</td>\n",
              "    </tr>\n",
              "    <tr>\n",
              "      <th>17</th>\n",
              "      <td>Muhammad Fatah Hidayat</td>\n",
              "      <td>2200015002</td>\n",
              "      <td>22</td>\n",
              "    </tr>\n",
              "    <tr>\n",
              "      <th>18</th>\n",
              "      <td>Dwi Agustia</td>\n",
              "      <td>2000015016</td>\n",
              "      <td>20</td>\n",
              "    </tr>\n",
              "    <tr>\n",
              "      <th>19</th>\n",
              "      <td>Nia Andriani Laila</td>\n",
              "      <td>2000015002</td>\n",
              "      <td>20</td>\n",
              "    </tr>\n",
              "    <tr>\n",
              "      <th>20</th>\n",
              "      <td>Winarsi J. Bidul</td>\n",
              "      <td>2000015011</td>\n",
              "      <td>20</td>\n",
              "    </tr>\n",
              "    <tr>\n",
              "      <th>21</th>\n",
              "      <td>Heru Pranoto</td>\n",
              "      <td>2211015008</td>\n",
              "      <td>22</td>\n",
              "    </tr>\n",
              "    <tr>\n",
              "      <th>22</th>\n",
              "      <td>Reynaldi Ikbar Surya Andhika</td>\n",
              "      <td>2200015007</td>\n",
              "      <td>22</td>\n",
              "    </tr>\n",
              "    <tr>\n",
              "      <th>23</th>\n",
              "      <td>Muhammad Rafiq Amrullah</td>\n",
              "      <td>2200015028</td>\n",
              "      <td>22</td>\n",
              "    </tr>\n",
              "    <tr>\n",
              "      <th>24</th>\n",
              "      <td>Muhammad Mujahid Al-makky</td>\n",
              "      <td>2200015006</td>\n",
              "      <td>22</td>\n",
              "    </tr>\n",
              "    <tr>\n",
              "      <th>25</th>\n",
              "      <td>Fauzi Ramadhan</td>\n",
              "      <td>2000015018</td>\n",
              "      <td>20</td>\n",
              "    </tr>\n",
              "    <tr>\n",
              "      <th>26</th>\n",
              "      <td>Vinna Rahmasari</td>\n",
              "      <td>2000015023</td>\n",
              "      <td>20</td>\n",
              "    </tr>\n",
              "    <tr>\n",
              "      <th>27</th>\n",
              "      <td>Shintia Yulita Sari</td>\n",
              "      <td>1900015057</td>\n",
              "      <td>19</td>\n",
              "    </tr>\n",
              "    <tr>\n",
              "      <th>28</th>\n",
              "      <td>Maretta Mia Audina</td>\n",
              "      <td>2200015010</td>\n",
              "      <td>22</td>\n",
              "    </tr>\n",
              "    <tr>\n",
              "      <th>29</th>\n",
              "      <td>Salma Aulia Imama</td>\n",
              "      <td>2200015009</td>\n",
              "      <td>22</td>\n",
              "    </tr>\n",
              "    <tr>\n",
              "      <th>30</th>\n",
              "      <td>Dhea Emma Karniasari</td>\n",
              "      <td>2200015024</td>\n",
              "      <td>22</td>\n",
              "    </tr>\n",
              "    <tr>\n",
              "      <th>31</th>\n",
              "      <td>Khoirun Nisya</td>\n",
              "      <td>2200015033</td>\n",
              "      <td>22</td>\n",
              "    </tr>\n",
              "    <tr>\n",
              "      <th>32</th>\n",
              "      <td>PUSPITA AMBARWATI</td>\n",
              "      <td>2000015022</td>\n",
              "      <td>20</td>\n",
              "    </tr>\n",
              "  </tbody>\n",
              "</table>\n",
              "</div>\n",
              "      <button class=\"colab-df-convert\" onclick=\"convertToInteractive('df-b5036649-d436-4254-a532-25d0487a0523')\"\n",
              "              title=\"Convert this dataframe to an interactive table.\"\n",
              "              style=\"display:none;\">\n",
              "        \n",
              "  <svg xmlns=\"http://www.w3.org/2000/svg\" height=\"24px\"viewBox=\"0 0 24 24\"\n",
              "       width=\"24px\">\n",
              "    <path d=\"M0 0h24v24H0V0z\" fill=\"none\"/>\n",
              "    <path d=\"M18.56 5.44l.94 2.06.94-2.06 2.06-.94-2.06-.94-.94-2.06-.94 2.06-2.06.94zm-11 1L8.5 8.5l.94-2.06 2.06-.94-2.06-.94L8.5 2.5l-.94 2.06-2.06.94zm10 10l.94 2.06.94-2.06 2.06-.94-2.06-.94-.94-2.06-.94 2.06-2.06.94z\"/><path d=\"M17.41 7.96l-1.37-1.37c-.4-.4-.92-.59-1.43-.59-.52 0-1.04.2-1.43.59L10.3 9.45l-7.72 7.72c-.78.78-.78 2.05 0 2.83L4 21.41c.39.39.9.59 1.41.59.51 0 1.02-.2 1.41-.59l7.78-7.78 2.81-2.81c.8-.78.8-2.07 0-2.86zM5.41 20L4 18.59l7.72-7.72 1.47 1.35L5.41 20z\"/>\n",
              "  </svg>\n",
              "      </button>\n",
              "      \n",
              "  <style>\n",
              "    .colab-df-container {\n",
              "      display:flex;\n",
              "      flex-wrap:wrap;\n",
              "      gap: 12px;\n",
              "    }\n",
              "\n",
              "    .colab-df-convert {\n",
              "      background-color: #E8F0FE;\n",
              "      border: none;\n",
              "      border-radius: 50%;\n",
              "      cursor: pointer;\n",
              "      display: none;\n",
              "      fill: #1967D2;\n",
              "      height: 32px;\n",
              "      padding: 0 0 0 0;\n",
              "      width: 32px;\n",
              "    }\n",
              "\n",
              "    .colab-df-convert:hover {\n",
              "      background-color: #E2EBFA;\n",
              "      box-shadow: 0px 1px 2px rgba(60, 64, 67, 0.3), 0px 1px 3px 1px rgba(60, 64, 67, 0.15);\n",
              "      fill: #174EA6;\n",
              "    }\n",
              "\n",
              "    [theme=dark] .colab-df-convert {\n",
              "      background-color: #3B4455;\n",
              "      fill: #D2E3FC;\n",
              "    }\n",
              "\n",
              "    [theme=dark] .colab-df-convert:hover {\n",
              "      background-color: #434B5C;\n",
              "      box-shadow: 0px 1px 3px 1px rgba(0, 0, 0, 0.15);\n",
              "      filter: drop-shadow(0px 1px 2px rgba(0, 0, 0, 0.3));\n",
              "      fill: #FFFFFF;\n",
              "    }\n",
              "  </style>\n",
              "\n",
              "      <script>\n",
              "        const buttonEl =\n",
              "          document.querySelector('#df-b5036649-d436-4254-a532-25d0487a0523 button.colab-df-convert');\n",
              "        buttonEl.style.display =\n",
              "          google.colab.kernel.accessAllowed ? 'block' : 'none';\n",
              "\n",
              "        async function convertToInteractive(key) {\n",
              "          const element = document.querySelector('#df-b5036649-d436-4254-a532-25d0487a0523');\n",
              "          const dataTable =\n",
              "            await google.colab.kernel.invokeFunction('convertToInteractive',\n",
              "                                                     [key], {});\n",
              "          if (!dataTable) return;\n",
              "\n",
              "          const docLinkHtml = 'Like what you see? Visit the ' +\n",
              "            '<a target=\"_blank\" href=https://colab.research.google.com/notebooks/data_table.ipynb>data table notebook</a>'\n",
              "            + ' to learn more about interactive tables.';\n",
              "          element.innerHTML = '';\n",
              "          dataTable['output_type'] = 'display_data';\n",
              "          await google.colab.output.renderOutput(dataTable, element);\n",
              "          const docLink = document.createElement('div');\n",
              "          docLink.innerHTML = docLinkHtml;\n",
              "          element.appendChild(docLink);\n",
              "        }\n",
              "      </script>\n",
              "    </div>\n",
              "  </div>\n",
              "  "
            ]
          },
          "metadata": {},
          "execution_count": 7
        }
      ],
      "source": [
        "import pandas as pd\n",
        "\n",
        "df = pd.DataFrame(dict_mahasiswa)\n",
        "df"
      ]
    },
    {
      "cell_type": "markdown",
      "id": "41b28f8e-e4f9-43e3-9410-d71b735a364e",
      "metadata": {
        "id": "41b28f8e-e4f9-43e3-9410-d71b735a364e"
      },
      "source": [
        "# Soal 5"
      ]
    },
    {
      "cell_type": "markdown",
      "id": "ebc7f899-5ad7-41a2-a9c2-2883a76d16ca",
      "metadata": {
        "id": "ebc7f899-5ad7-41a2-a9c2-2883a76d16ca"
      },
      "source": [
        "Buatlah Visualisasi dengan menggunakan `pie chart` dengan menunjukan banyaknya orang setiap angkatan yang mengikuti PD 4.0"
      ]
    },
    {
      "cell_type": "code",
      "execution_count": 18,
      "id": "1d0b8ca4-bb91-4108-a293-a809af0ed57b",
      "metadata": {
        "id": "1d0b8ca4-bb91-4108-a293-a809af0ed57b",
        "colab": {
          "base_uri": "https://localhost:8080/",
          "height": 542
        },
        "outputId": "cb6b013c-0310-4262-e7bf-5b9b7a489fd9"
      },
      "outputs": [
        {
          "output_type": "display_data",
          "data": {
            "text/html": [
              "<html>\n",
              "<head><meta charset=\"utf-8\" /></head>\n",
              "<body>\n",
              "    <div>            <script src=\"https://cdnjs.cloudflare.com/ajax/libs/mathjax/2.7.5/MathJax.js?config=TeX-AMS-MML_SVG\"></script><script type=\"text/javascript\">if (window.MathJax) {MathJax.Hub.Config({SVG: {font: \"STIX-Web\"}});}</script>                <script type=\"text/javascript\">window.PlotlyConfig = {MathJaxConfig: 'local'};</script>\n",
              "        <script src=\"https://cdn.plot.ly/plotly-2.8.3.min.js\"></script>                <div id=\"a8cfd19f-4fb1-4d2d-98f3-bfaab1afbf57\" class=\"plotly-graph-div\" style=\"height:525px; width:100%;\"></div>            <script type=\"text/javascript\">                                    window.PLOTLYENV=window.PLOTLYENV || {};                                    if (document.getElementById(\"a8cfd19f-4fb1-4d2d-98f3-bfaab1afbf57\")) {                    Plotly.newPlot(                        \"a8cfd19f-4fb1-4d2d-98f3-bfaab1afbf57\",                        [{\"labels\":[\"21\",\"21\",\"21\",\"21\",\"21\",\"22\",\"21\",\"22\",\"22\",\"22\",\"21\",\"21\",\"21\",\"21\",\"21\",\"21\",\"21\",\"22\",\"20\",\"20\",\"20\",\"22\",\"22\",\"22\",\"22\",\"20\",\"20\",\"19\",\"22\",\"22\",\"22\",\"22\",\"20\"],\"values\":[2100015049,2100015041,2100015043,2100015006,2100015037,2215015035,2100015051,2200015023,2200015012,2200015032,2100015009,2100015016,2100015036,2100015053,2100015050,2100015010,2100015002,2200015002,2000015016,2000015002,2000015011,2211015008,2200015007,2200015028,2200015006,2000015018,2000015023,1900015057,2200015010,2200015009,2200015024,2200015033,2000015022],\"type\":\"pie\"}],                        {\"template\":{\"data\":{\"bar\":[{\"error_x\":{\"color\":\"#2a3f5f\"},\"error_y\":{\"color\":\"#2a3f5f\"},\"marker\":{\"line\":{\"color\":\"#E5ECF6\",\"width\":0.5},\"pattern\":{\"fillmode\":\"overlay\",\"size\":10,\"solidity\":0.2}},\"type\":\"bar\"}],\"barpolar\":[{\"marker\":{\"line\":{\"color\":\"#E5ECF6\",\"width\":0.5},\"pattern\":{\"fillmode\":\"overlay\",\"size\":10,\"solidity\":0.2}},\"type\":\"barpolar\"}],\"carpet\":[{\"aaxis\":{\"endlinecolor\":\"#2a3f5f\",\"gridcolor\":\"white\",\"linecolor\":\"white\",\"minorgridcolor\":\"white\",\"startlinecolor\":\"#2a3f5f\"},\"baxis\":{\"endlinecolor\":\"#2a3f5f\",\"gridcolor\":\"white\",\"linecolor\":\"white\",\"minorgridcolor\":\"white\",\"startlinecolor\":\"#2a3f5f\"},\"type\":\"carpet\"}],\"choropleth\":[{\"colorbar\":{\"outlinewidth\":0,\"ticks\":\"\"},\"type\":\"choropleth\"}],\"contour\":[{\"colorbar\":{\"outlinewidth\":0,\"ticks\":\"\"},\"colorscale\":[[0.0,\"#0d0887\"],[0.1111111111111111,\"#46039f\"],[0.2222222222222222,\"#7201a8\"],[0.3333333333333333,\"#9c179e\"],[0.4444444444444444,\"#bd3786\"],[0.5555555555555556,\"#d8576b\"],[0.6666666666666666,\"#ed7953\"],[0.7777777777777778,\"#fb9f3a\"],[0.8888888888888888,\"#fdca26\"],[1.0,\"#f0f921\"]],\"type\":\"contour\"}],\"contourcarpet\":[{\"colorbar\":{\"outlinewidth\":0,\"ticks\":\"\"},\"type\":\"contourcarpet\"}],\"heatmap\":[{\"colorbar\":{\"outlinewidth\":0,\"ticks\":\"\"},\"colorscale\":[[0.0,\"#0d0887\"],[0.1111111111111111,\"#46039f\"],[0.2222222222222222,\"#7201a8\"],[0.3333333333333333,\"#9c179e\"],[0.4444444444444444,\"#bd3786\"],[0.5555555555555556,\"#d8576b\"],[0.6666666666666666,\"#ed7953\"],[0.7777777777777778,\"#fb9f3a\"],[0.8888888888888888,\"#fdca26\"],[1.0,\"#f0f921\"]],\"type\":\"heatmap\"}],\"heatmapgl\":[{\"colorbar\":{\"outlinewidth\":0,\"ticks\":\"\"},\"colorscale\":[[0.0,\"#0d0887\"],[0.1111111111111111,\"#46039f\"],[0.2222222222222222,\"#7201a8\"],[0.3333333333333333,\"#9c179e\"],[0.4444444444444444,\"#bd3786\"],[0.5555555555555556,\"#d8576b\"],[0.6666666666666666,\"#ed7953\"],[0.7777777777777778,\"#fb9f3a\"],[0.8888888888888888,\"#fdca26\"],[1.0,\"#f0f921\"]],\"type\":\"heatmapgl\"}],\"histogram\":[{\"marker\":{\"pattern\":{\"fillmode\":\"overlay\",\"size\":10,\"solidity\":0.2}},\"type\":\"histogram\"}],\"histogram2d\":[{\"colorbar\":{\"outlinewidth\":0,\"ticks\":\"\"},\"colorscale\":[[0.0,\"#0d0887\"],[0.1111111111111111,\"#46039f\"],[0.2222222222222222,\"#7201a8\"],[0.3333333333333333,\"#9c179e\"],[0.4444444444444444,\"#bd3786\"],[0.5555555555555556,\"#d8576b\"],[0.6666666666666666,\"#ed7953\"],[0.7777777777777778,\"#fb9f3a\"],[0.8888888888888888,\"#fdca26\"],[1.0,\"#f0f921\"]],\"type\":\"histogram2d\"}],\"histogram2dcontour\":[{\"colorbar\":{\"outlinewidth\":0,\"ticks\":\"\"},\"colorscale\":[[0.0,\"#0d0887\"],[0.1111111111111111,\"#46039f\"],[0.2222222222222222,\"#7201a8\"],[0.3333333333333333,\"#9c179e\"],[0.4444444444444444,\"#bd3786\"],[0.5555555555555556,\"#d8576b\"],[0.6666666666666666,\"#ed7953\"],[0.7777777777777778,\"#fb9f3a\"],[0.8888888888888888,\"#fdca26\"],[1.0,\"#f0f921\"]],\"type\":\"histogram2dcontour\"}],\"mesh3d\":[{\"colorbar\":{\"outlinewidth\":0,\"ticks\":\"\"},\"type\":\"mesh3d\"}],\"parcoords\":[{\"line\":{\"colorbar\":{\"outlinewidth\":0,\"ticks\":\"\"}},\"type\":\"parcoords\"}],\"pie\":[{\"automargin\":true,\"type\":\"pie\"}],\"scatter\":[{\"marker\":{\"colorbar\":{\"outlinewidth\":0,\"ticks\":\"\"}},\"type\":\"scatter\"}],\"scatter3d\":[{\"line\":{\"colorbar\":{\"outlinewidth\":0,\"ticks\":\"\"}},\"marker\":{\"colorbar\":{\"outlinewidth\":0,\"ticks\":\"\"}},\"type\":\"scatter3d\"}],\"scattercarpet\":[{\"marker\":{\"colorbar\":{\"outlinewidth\":0,\"ticks\":\"\"}},\"type\":\"scattercarpet\"}],\"scattergeo\":[{\"marker\":{\"colorbar\":{\"outlinewidth\":0,\"ticks\":\"\"}},\"type\":\"scattergeo\"}],\"scattergl\":[{\"marker\":{\"colorbar\":{\"outlinewidth\":0,\"ticks\":\"\"}},\"type\":\"scattergl\"}],\"scattermapbox\":[{\"marker\":{\"colorbar\":{\"outlinewidth\":0,\"ticks\":\"\"}},\"type\":\"scattermapbox\"}],\"scatterpolar\":[{\"marker\":{\"colorbar\":{\"outlinewidth\":0,\"ticks\":\"\"}},\"type\":\"scatterpolar\"}],\"scatterpolargl\":[{\"marker\":{\"colorbar\":{\"outlinewidth\":0,\"ticks\":\"\"}},\"type\":\"scatterpolargl\"}],\"scatterternary\":[{\"marker\":{\"colorbar\":{\"outlinewidth\":0,\"ticks\":\"\"}},\"type\":\"scatterternary\"}],\"surface\":[{\"colorbar\":{\"outlinewidth\":0,\"ticks\":\"\"},\"colorscale\":[[0.0,\"#0d0887\"],[0.1111111111111111,\"#46039f\"],[0.2222222222222222,\"#7201a8\"],[0.3333333333333333,\"#9c179e\"],[0.4444444444444444,\"#bd3786\"],[0.5555555555555556,\"#d8576b\"],[0.6666666666666666,\"#ed7953\"],[0.7777777777777778,\"#fb9f3a\"],[0.8888888888888888,\"#fdca26\"],[1.0,\"#f0f921\"]],\"type\":\"surface\"}],\"table\":[{\"cells\":{\"fill\":{\"color\":\"#EBF0F8\"},\"line\":{\"color\":\"white\"}},\"header\":{\"fill\":{\"color\":\"#C8D4E3\"},\"line\":{\"color\":\"white\"}},\"type\":\"table\"}]},\"layout\":{\"annotationdefaults\":{\"arrowcolor\":\"#2a3f5f\",\"arrowhead\":0,\"arrowwidth\":1},\"autotypenumbers\":\"strict\",\"coloraxis\":{\"colorbar\":{\"outlinewidth\":0,\"ticks\":\"\"}},\"colorscale\":{\"diverging\":[[0,\"#8e0152\"],[0.1,\"#c51b7d\"],[0.2,\"#de77ae\"],[0.3,\"#f1b6da\"],[0.4,\"#fde0ef\"],[0.5,\"#f7f7f7\"],[0.6,\"#e6f5d0\"],[0.7,\"#b8e186\"],[0.8,\"#7fbc41\"],[0.9,\"#4d9221\"],[1,\"#276419\"]],\"sequential\":[[0.0,\"#0d0887\"],[0.1111111111111111,\"#46039f\"],[0.2222222222222222,\"#7201a8\"],[0.3333333333333333,\"#9c179e\"],[0.4444444444444444,\"#bd3786\"],[0.5555555555555556,\"#d8576b\"],[0.6666666666666666,\"#ed7953\"],[0.7777777777777778,\"#fb9f3a\"],[0.8888888888888888,\"#fdca26\"],[1.0,\"#f0f921\"]],\"sequentialminus\":[[0.0,\"#0d0887\"],[0.1111111111111111,\"#46039f\"],[0.2222222222222222,\"#7201a8\"],[0.3333333333333333,\"#9c179e\"],[0.4444444444444444,\"#bd3786\"],[0.5555555555555556,\"#d8576b\"],[0.6666666666666666,\"#ed7953\"],[0.7777777777777778,\"#fb9f3a\"],[0.8888888888888888,\"#fdca26\"],[1.0,\"#f0f921\"]]},\"colorway\":[\"#636efa\",\"#EF553B\",\"#00cc96\",\"#ab63fa\",\"#FFA15A\",\"#19d3f3\",\"#FF6692\",\"#B6E880\",\"#FF97FF\",\"#FECB52\"],\"font\":{\"color\":\"#2a3f5f\"},\"geo\":{\"bgcolor\":\"white\",\"lakecolor\":\"white\",\"landcolor\":\"#E5ECF6\",\"showlakes\":true,\"showland\":true,\"subunitcolor\":\"white\"},\"hoverlabel\":{\"align\":\"left\"},\"hovermode\":\"closest\",\"mapbox\":{\"style\":\"light\"},\"paper_bgcolor\":\"white\",\"plot_bgcolor\":\"#E5ECF6\",\"polar\":{\"angularaxis\":{\"gridcolor\":\"white\",\"linecolor\":\"white\",\"ticks\":\"\"},\"bgcolor\":\"#E5ECF6\",\"radialaxis\":{\"gridcolor\":\"white\",\"linecolor\":\"white\",\"ticks\":\"\"}},\"scene\":{\"xaxis\":{\"backgroundcolor\":\"#E5ECF6\",\"gridcolor\":\"white\",\"gridwidth\":2,\"linecolor\":\"white\",\"showbackground\":true,\"ticks\":\"\",\"zerolinecolor\":\"white\"},\"yaxis\":{\"backgroundcolor\":\"#E5ECF6\",\"gridcolor\":\"white\",\"gridwidth\":2,\"linecolor\":\"white\",\"showbackground\":true,\"ticks\":\"\",\"zerolinecolor\":\"white\"},\"zaxis\":{\"backgroundcolor\":\"#E5ECF6\",\"gridcolor\":\"white\",\"gridwidth\":2,\"linecolor\":\"white\",\"showbackground\":true,\"ticks\":\"\",\"zerolinecolor\":\"white\"}},\"shapedefaults\":{\"line\":{\"color\":\"#2a3f5f\"}},\"ternary\":{\"aaxis\":{\"gridcolor\":\"white\",\"linecolor\":\"white\",\"ticks\":\"\"},\"baxis\":{\"gridcolor\":\"white\",\"linecolor\":\"white\",\"ticks\":\"\"},\"bgcolor\":\"#E5ECF6\",\"caxis\":{\"gridcolor\":\"white\",\"linecolor\":\"white\",\"ticks\":\"\"}},\"title\":{\"x\":0.05},\"xaxis\":{\"automargin\":true,\"gridcolor\":\"white\",\"linecolor\":\"white\",\"ticks\":\"\",\"title\":{\"standoff\":15},\"zerolinecolor\":\"white\",\"zerolinewidth\":2},\"yaxis\":{\"automargin\":true,\"gridcolor\":\"white\",\"linecolor\":\"white\",\"ticks\":\"\",\"title\":{\"standoff\":15},\"zerolinecolor\":\"white\",\"zerolinewidth\":2}}}},                        {\"responsive\": true}                    ).then(function(){\n",
              "                            \n",
              "var gd = document.getElementById('a8cfd19f-4fb1-4d2d-98f3-bfaab1afbf57');\n",
              "var x = new MutationObserver(function (mutations, observer) {{\n",
              "        var display = window.getComputedStyle(gd).display;\n",
              "        if (!display || display === 'none') {{\n",
              "            console.log([gd, 'removed!']);\n",
              "            Plotly.purge(gd);\n",
              "            observer.disconnect();\n",
              "        }}\n",
              "}});\n",
              "\n",
              "// Listen for the removal of the full notebook cells\n",
              "var notebookContainer = gd.closest('#notebook-container');\n",
              "if (notebookContainer) {{\n",
              "    x.observe(notebookContainer, {childList: true});\n",
              "}}\n",
              "\n",
              "// Listen for the clearing of the current output cell\n",
              "var outputEl = gd.closest('.output');\n",
              "if (outputEl) {{\n",
              "    x.observe(outputEl, {childList: true});\n",
              "}}\n",
              "\n",
              "                        })                };                            </script>        </div>\n",
              "</body>\n",
              "</html>"
            ]
          },
          "metadata": {}
        }
      ],
      "source": [
        "import plotly.graph_objects as go\n",
        "\n",
        "labels = Angkatan\n",
        "values = Nim\n",
        "\n",
        "fig = go.Figure(data=[go.Pie(labels=labels, values=values)])\n",
        "fig.show()\n"
      ]
    },
    {
      "cell_type": "markdown",
      "id": "7a898556-05d5-47bc-9d04-8875ff56e89d",
      "metadata": {
        "id": "7a898556-05d5-47bc-9d04-8875ff56e89d"
      },
      "source": [
        "# Soal 6"
      ]
    },
    {
      "cell_type": "markdown",
      "id": "18b99649-98b2-45c1-a4b4-ff4baa4cf6ac",
      "metadata": {
        "id": "18b99649-98b2-45c1-a4b4-ff4baa4cf6ac"
      },
      "source": [
        "Lakukan penyimpanan data frame `df` ke dalam bentuk `csv` dengan nama `data_pd4.csv`"
      ]
    },
    {
      "cell_type": "code",
      "execution_count": 19,
      "id": "15b15db7-2ce6-4bad-9a67-ea169f75ea39",
      "metadata": {
        "id": "15b15db7-2ce6-4bad-9a67-ea169f75ea39"
      },
      "outputs": [],
      "source": [
        "df.to_csv('data_pd4.csv')"
      ]
    },
    {
      "cell_type": "markdown",
      "source": [
        "Untuk mengecek data csv tersebut, klik icon file pada bagian kiri atas kemudian akan muncul data_pd4.csv"
      ],
      "metadata": {
        "id": "SxgXC_HjTwCC"
      },
      "id": "SxgXC_HjTwCC"
    },
    {
      "cell_type": "markdown",
      "id": "77330f16-1927-45d1-a9c4-f86fd5b75db2",
      "metadata": {
        "id": "77330f16-1927-45d1-a9c4-f86fd5b75db2"
      },
      "source": [
        "# Soal 7"
      ]
    },
    {
      "cell_type": "markdown",
      "id": "1a2dd35f-0147-4dea-87a7-46f2787bc030",
      "metadata": {
        "id": "1a2dd35f-0147-4dea-87a7-46f2787bc030"
      },
      "source": [
        "Buatlah data frame dengan nama `df1` dari file csv `iris.csv`"
      ]
    },
    {
      "cell_type": "code",
      "execution_count": null,
      "id": "aebf1851-6bef-44ee-bbab-38fd746e13ac",
      "metadata": {
        "colab": {
          "base_uri": "https://localhost:8080/",
          "height": 424
        },
        "id": "aebf1851-6bef-44ee-bbab-38fd746e13ac",
        "outputId": "23d4d323-e812-4e70-a584-972dd8dbd970"
      },
      "outputs": [
        {
          "output_type": "execute_result",
          "data": {
            "text/plain": [
              "     sepalwidth  sepallength  petalwidth  petallength            type\n",
              "0           5.1          3.5         1.4          0.2     Iris-setosa\n",
              "1           4.9          3.0         1.4          0.2     Iris-setosa\n",
              "2           4.7          3.2         1.3          0.2     Iris-setosa\n",
              "3           4.6          3.1         1.5          0.2     Iris-setosa\n",
              "4           5.0          3.6         1.4          0.2     Iris-setosa\n",
              "..          ...          ...         ...          ...             ...\n",
              "145         6.7          3.0         5.2          2.3  Iris-virginica\n",
              "146         6.3          2.5         5.0          1.9  Iris-virginica\n",
              "147         6.5          3.0         5.2          2.0  Iris-virginica\n",
              "148         6.2          3.4         5.4          2.3  Iris-virginica\n",
              "149         5.9          3.0         5.1          1.8  Iris-virginica\n",
              "\n",
              "[150 rows x 5 columns]"
            ],
            "text/html": [
              "\n",
              "  <div id=\"df-13998e73-474c-4c6b-a9e3-39265e0ef36d\">\n",
              "    <div class=\"colab-df-container\">\n",
              "      <div>\n",
              "<style scoped>\n",
              "    .dataframe tbody tr th:only-of-type {\n",
              "        vertical-align: middle;\n",
              "    }\n",
              "\n",
              "    .dataframe tbody tr th {\n",
              "        vertical-align: top;\n",
              "    }\n",
              "\n",
              "    .dataframe thead th {\n",
              "        text-align: right;\n",
              "    }\n",
              "</style>\n",
              "<table border=\"1\" class=\"dataframe\">\n",
              "  <thead>\n",
              "    <tr style=\"text-align: right;\">\n",
              "      <th></th>\n",
              "      <th>sepalwidth</th>\n",
              "      <th>sepallength</th>\n",
              "      <th>petalwidth</th>\n",
              "      <th>petallength</th>\n",
              "      <th>type</th>\n",
              "    </tr>\n",
              "  </thead>\n",
              "  <tbody>\n",
              "    <tr>\n",
              "      <th>0</th>\n",
              "      <td>5.1</td>\n",
              "      <td>3.5</td>\n",
              "      <td>1.4</td>\n",
              "      <td>0.2</td>\n",
              "      <td>Iris-setosa</td>\n",
              "    </tr>\n",
              "    <tr>\n",
              "      <th>1</th>\n",
              "      <td>4.9</td>\n",
              "      <td>3.0</td>\n",
              "      <td>1.4</td>\n",
              "      <td>0.2</td>\n",
              "      <td>Iris-setosa</td>\n",
              "    </tr>\n",
              "    <tr>\n",
              "      <th>2</th>\n",
              "      <td>4.7</td>\n",
              "      <td>3.2</td>\n",
              "      <td>1.3</td>\n",
              "      <td>0.2</td>\n",
              "      <td>Iris-setosa</td>\n",
              "    </tr>\n",
              "    <tr>\n",
              "      <th>3</th>\n",
              "      <td>4.6</td>\n",
              "      <td>3.1</td>\n",
              "      <td>1.5</td>\n",
              "      <td>0.2</td>\n",
              "      <td>Iris-setosa</td>\n",
              "    </tr>\n",
              "    <tr>\n",
              "      <th>4</th>\n",
              "      <td>5.0</td>\n",
              "      <td>3.6</td>\n",
              "      <td>1.4</td>\n",
              "      <td>0.2</td>\n",
              "      <td>Iris-setosa</td>\n",
              "    </tr>\n",
              "    <tr>\n",
              "      <th>...</th>\n",
              "      <td>...</td>\n",
              "      <td>...</td>\n",
              "      <td>...</td>\n",
              "      <td>...</td>\n",
              "      <td>...</td>\n",
              "    </tr>\n",
              "    <tr>\n",
              "      <th>145</th>\n",
              "      <td>6.7</td>\n",
              "      <td>3.0</td>\n",
              "      <td>5.2</td>\n",
              "      <td>2.3</td>\n",
              "      <td>Iris-virginica</td>\n",
              "    </tr>\n",
              "    <tr>\n",
              "      <th>146</th>\n",
              "      <td>6.3</td>\n",
              "      <td>2.5</td>\n",
              "      <td>5.0</td>\n",
              "      <td>1.9</td>\n",
              "      <td>Iris-virginica</td>\n",
              "    </tr>\n",
              "    <tr>\n",
              "      <th>147</th>\n",
              "      <td>6.5</td>\n",
              "      <td>3.0</td>\n",
              "      <td>5.2</td>\n",
              "      <td>2.0</td>\n",
              "      <td>Iris-virginica</td>\n",
              "    </tr>\n",
              "    <tr>\n",
              "      <th>148</th>\n",
              "      <td>6.2</td>\n",
              "      <td>3.4</td>\n",
              "      <td>5.4</td>\n",
              "      <td>2.3</td>\n",
              "      <td>Iris-virginica</td>\n",
              "    </tr>\n",
              "    <tr>\n",
              "      <th>149</th>\n",
              "      <td>5.9</td>\n",
              "      <td>3.0</td>\n",
              "      <td>5.1</td>\n",
              "      <td>1.8</td>\n",
              "      <td>Iris-virginica</td>\n",
              "    </tr>\n",
              "  </tbody>\n",
              "</table>\n",
              "<p>150 rows × 5 columns</p>\n",
              "</div>\n",
              "      <button class=\"colab-df-convert\" onclick=\"convertToInteractive('df-13998e73-474c-4c6b-a9e3-39265e0ef36d')\"\n",
              "              title=\"Convert this dataframe to an interactive table.\"\n",
              "              style=\"display:none;\">\n",
              "        \n",
              "  <svg xmlns=\"http://www.w3.org/2000/svg\" height=\"24px\"viewBox=\"0 0 24 24\"\n",
              "       width=\"24px\">\n",
              "    <path d=\"M0 0h24v24H0V0z\" fill=\"none\"/>\n",
              "    <path d=\"M18.56 5.44l.94 2.06.94-2.06 2.06-.94-2.06-.94-.94-2.06-.94 2.06-2.06.94zm-11 1L8.5 8.5l.94-2.06 2.06-.94-2.06-.94L8.5 2.5l-.94 2.06-2.06.94zm10 10l.94 2.06.94-2.06 2.06-.94-2.06-.94-.94-2.06-.94 2.06-2.06.94z\"/><path d=\"M17.41 7.96l-1.37-1.37c-.4-.4-.92-.59-1.43-.59-.52 0-1.04.2-1.43.59L10.3 9.45l-7.72 7.72c-.78.78-.78 2.05 0 2.83L4 21.41c.39.39.9.59 1.41.59.51 0 1.02-.2 1.41-.59l7.78-7.78 2.81-2.81c.8-.78.8-2.07 0-2.86zM5.41 20L4 18.59l7.72-7.72 1.47 1.35L5.41 20z\"/>\n",
              "  </svg>\n",
              "      </button>\n",
              "      \n",
              "  <style>\n",
              "    .colab-df-container {\n",
              "      display:flex;\n",
              "      flex-wrap:wrap;\n",
              "      gap: 12px;\n",
              "    }\n",
              "\n",
              "    .colab-df-convert {\n",
              "      background-color: #E8F0FE;\n",
              "      border: none;\n",
              "      border-radius: 50%;\n",
              "      cursor: pointer;\n",
              "      display: none;\n",
              "      fill: #1967D2;\n",
              "      height: 32px;\n",
              "      padding: 0 0 0 0;\n",
              "      width: 32px;\n",
              "    }\n",
              "\n",
              "    .colab-df-convert:hover {\n",
              "      background-color: #E2EBFA;\n",
              "      box-shadow: 0px 1px 2px rgba(60, 64, 67, 0.3), 0px 1px 3px 1px rgba(60, 64, 67, 0.15);\n",
              "      fill: #174EA6;\n",
              "    }\n",
              "\n",
              "    [theme=dark] .colab-df-convert {\n",
              "      background-color: #3B4455;\n",
              "      fill: #D2E3FC;\n",
              "    }\n",
              "\n",
              "    [theme=dark] .colab-df-convert:hover {\n",
              "      background-color: #434B5C;\n",
              "      box-shadow: 0px 1px 3px 1px rgba(0, 0, 0, 0.15);\n",
              "      filter: drop-shadow(0px 1px 2px rgba(0, 0, 0, 0.3));\n",
              "      fill: #FFFFFF;\n",
              "    }\n",
              "  </style>\n",
              "\n",
              "      <script>\n",
              "        const buttonEl =\n",
              "          document.querySelector('#df-13998e73-474c-4c6b-a9e3-39265e0ef36d button.colab-df-convert');\n",
              "        buttonEl.style.display =\n",
              "          google.colab.kernel.accessAllowed ? 'block' : 'none';\n",
              "\n",
              "        async function convertToInteractive(key) {\n",
              "          const element = document.querySelector('#df-13998e73-474c-4c6b-a9e3-39265e0ef36d');\n",
              "          const dataTable =\n",
              "            await google.colab.kernel.invokeFunction('convertToInteractive',\n",
              "                                                     [key], {});\n",
              "          if (!dataTable) return;\n",
              "\n",
              "          const docLinkHtml = 'Like what you see? Visit the ' +\n",
              "            '<a target=\"_blank\" href=https://colab.research.google.com/notebooks/data_table.ipynb>data table notebook</a>'\n",
              "            + ' to learn more about interactive tables.';\n",
              "          element.innerHTML = '';\n",
              "          dataTable['output_type'] = 'display_data';\n",
              "          await google.colab.output.renderOutput(dataTable, element);\n",
              "          const docLink = document.createElement('div');\n",
              "          docLink.innerHTML = docLinkHtml;\n",
              "          element.appendChild(docLink);\n",
              "        }\n",
              "      </script>\n",
              "    </div>\n",
              "  </div>\n",
              "  "
            ]
          },
          "metadata": {},
          "execution_count": 4
        }
      ],
      "source": [
        "import pandas as pd\n",
        "\n",
        "df1 = pd.read_csv('/iris - iris.csv')\n",
        "df1"
      ]
    },
    {
      "cell_type": "markdown",
      "id": "477d27bf-6527-4700-b329-91fcc52a021b",
      "metadata": {
        "id": "477d27bf-6527-4700-b329-91fcc52a021b"
      },
      "source": [
        "# Soal 8"
      ]
    },
    {
      "cell_type": "markdown",
      "id": "8da6aefc-ed02-4e29-ae72-ecffeed28708",
      "metadata": {
        "id": "8da6aefc-ed02-4e29-ae72-ecffeed28708"
      },
      "source": [
        "Uplod `data_pd4.csv` kedalam github masing-masing lalu lakukan pembacaan data melalui raw.github dengan mencantumkan link data pada github. Lalu buatlah data frame dengan nama `df2`"
      ]
    },
    {
      "cell_type": "code",
      "source": [],
      "metadata": {
        "id": "LK7AhEerXBky"
      },
      "id": "LK7AhEerXBky",
      "execution_count": null,
      "outputs": []
    }
  ],
  "metadata": {
    "kernelspec": {
      "display_name": "Python 3",
      "language": "python",
      "name": "python3"
    },
    "language_info": {
      "codemirror_mode": {
        "name": "ipython",
        "version": 3
      },
      "file_extension": ".py",
      "mimetype": "text/x-python",
      "name": "python",
      "nbconvert_exporter": "python",
      "pygments_lexer": "ipython3",
      "version": "3.8.8"
    },
    "colab": {
      "provenance": []
    }
  },
  "nbformat": 4,
  "nbformat_minor": 5
}