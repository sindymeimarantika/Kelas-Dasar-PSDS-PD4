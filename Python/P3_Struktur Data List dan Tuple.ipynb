{
 "cells": [
  {
   "cell_type": "markdown",
   "id": "4301123e",
   "metadata": {},
   "source": [
    "## Struktur Data"
   ]
  },
  {
   "cell_type": "markdown",
   "id": "3380b324",
   "metadata": {},
   "source": [
    "### List"
   ]
  },
  {
   "cell_type": "code",
   "execution_count": 2,
   "id": "5d57eb67",
   "metadata": {},
   "outputs": [
    {
     "name": "stdout",
     "output_type": "stream",
     "text": [
      "[1, 2, 3, 4]\n"
     ]
    }
   ],
   "source": [
    "# Contoh List\n",
    "L1 = [1, 2, 3, 4]\n",
    "print(L1)"
   ]
  },
  {
   "cell_type": "code",
   "execution_count": 13,
   "id": "4f9cf770",
   "metadata": {},
   "outputs": [
    {
     "name": "stdout",
     "output_type": "stream",
     "text": [
      "metnum\n",
      "['pdp', 'metnum', 'graph']\n",
      "['pdp', 'metnum']\n",
      "metnum\n",
      "['graph']\n",
      "[]\n",
      "['pdp']\n"
     ]
    }
   ],
   "source": [
    "#dari depan 0,1,2,3 dan dari belakang -1,-2,-3,-4\n",
    "\n",
    "matkul = [\"fuzzy\", \"pdp\", \"metnum\", \"graph\"]\n",
    "\n",
    "print(matkul[2])\n",
    "print(matkul[1:]) #elemen dari 1 hingga terakhir\n",
    "print(matkul[1:3])\n",
    "print(matkul[-2])\n",
    "print(matkul[-1:])\n",
    "print(matkul[1:2:])"
   ]
  },
  {
   "cell_type": "markdown",
   "id": "33ea6ef6",
   "metadata": {},
   "source": [
    "#### Latihan"
   ]
  },
  {
   "cell_type": "code",
   "execution_count": 45,
   "id": "6e8e06d0",
   "metadata": {},
   "outputs": [
    {
     "name": "stdout",
     "output_type": "stream",
     "text": [
      "['Aku', 'Cantik', True]\n",
      "['Nilai kalkulusku', 90.5]\n",
      "100\n",
      "(6+2j)\n",
      "True\n"
     ]
    }
   ],
   "source": [
    "A = [\"Aku\", \"Cantik\", True, \"Nilai kalkulusku\", 90.5, 6+2j, 100]\n",
    "\n",
    "print(A[0:3])\n",
    "print(A[3:5]) #yang ditampilin elemen 3 sampe 4 aja\n",
    "print(A[6])\n",
    "print(A[5])\n",
    "print(A[2])"
   ]
  },
  {
   "cell_type": "markdown",
   "id": "c0fa5723",
   "metadata": {},
   "source": [
    "### Sifat-sifat List"
   ]
  },
  {
   "cell_type": "code",
   "execution_count": 35,
   "id": "62a2987f",
   "metadata": {},
   "outputs": [
    {
     "name": "stdout",
     "output_type": "stream",
     "text": [
      "[1, 2, 3, 4]\n"
     ]
    }
   ],
   "source": [
    "L1 = [1, 2, 3, 4]\n",
    "print(L1)"
   ]
  },
  {
   "cell_type": "code",
   "execution_count": 37,
   "id": "2690bfb7",
   "metadata": {},
   "outputs": [
    {
     "name": "stdout",
     "output_type": "stream",
     "text": [
      "memanggil elemen :  [1, 2, 3]\n"
     ]
    }
   ],
   "source": [
    "#Terurut/ordered\n",
    "print(\"memanggil elemen : \", L1[0:3])"
   ]
  },
  {
   "cell_type": "code",
   "execution_count": 39,
   "id": "98708d30",
   "metadata": {},
   "outputs": [
    {
     "name": "stdout",
     "output_type": "stream",
     "text": [
      "Ganti L1 :  [1, 2, 3, 10]\n"
     ]
    }
   ],
   "source": [
    "#dapat diganti elemennya\n",
    "L1[3] = 10\n",
    "print(\"Ganti L1 : \", L1)"
   ]
  },
  {
   "cell_type": "code",
   "execution_count": 44,
   "id": "91716f0c",
   "metadata": {},
   "outputs": [
    {
     "name": "stdout",
     "output_type": "stream",
     "text": [
      "slicing L1:  3\n"
     ]
    }
   ],
   "source": [
    "#dapat di indeks/slicing\n",
    "print(\"slicing L1: \", L1[2])"
   ]
  },
  {
   "cell_type": "code",
   "execution_count": 42,
   "id": "137b1c91",
   "metadata": {},
   "outputs": [
    {
     "name": "stdout",
     "output_type": "stream",
     "text": [
      "duplikasi L1 :  [1, 2, 3, 4, 4]\n"
     ]
    }
   ],
   "source": [
    "#dapat diduplikasi/elemen ada yg sama\n",
    "L1 = [1, 2, 3, 4, 4]\n",
    "print(\"duplikasi L1 : \", L1)"
   ]
  },
  {
   "cell_type": "markdown",
   "id": "be7bf99c",
   "metadata": {},
   "source": [
    "### Tuple\n",
    "elemen tidak dapat diubah"
   ]
  },
  {
   "cell_type": "code",
   "execution_count": 52,
   "id": "9b7ea97e",
   "metadata": {},
   "outputs": [
    {
     "name": "stdout",
     "output_type": "stream",
     "text": [
      "('Aku anak ke', 2, True)\n",
      "('Nilai Kalkulus 2 ku', 100)\n"
     ]
    },
    {
     "data": {
      "text/plain": [
       "tuple"
      ]
     },
     "execution_count": 52,
     "metadata": {},
     "output_type": "execute_result"
    }
   ],
   "source": [
    "#Contoh Tuple\n",
    "A = (\"Aku anak ke\", 2, True, \"Nilai Kalkulus 2 ku\", 100, 2, 5+2j)\n",
    "print(A[0:3])\n",
    "print(A[3:5])\n",
    "type(A)"
   ]
  },
  {
   "cell_type": "markdown",
   "id": "e180f513",
   "metadata": {},
   "source": [
    "### Sifat-sifat tuple\n",
    "sama seperti tipe data list tapi tuple elemennya tidak bisa diganti"
   ]
  },
  {
   "cell_type": "code",
   "execution_count": 54,
   "id": "52fb75b1",
   "metadata": {},
   "outputs": [
    {
     "name": "stdout",
     "output_type": "stream",
     "text": [
      "('Aku', 'Cantik', True, 100)\n"
     ]
    }
   ],
   "source": [
    "# Mengabungkan Tuple\n",
    "T1 = (\"Aku\", \"Cantik\")\n",
    "T2 = (True, 100)\n",
    "T3 = T1 + T2\n",
    "print(T3)"
   ]
  }
 ],
 "metadata": {
  "kernelspec": {
   "display_name": "Python 3",
   "language": "python",
   "name": "python3"
  },
  "language_info": {
   "codemirror_mode": {
    "name": "ipython",
    "version": 3
   },
   "file_extension": ".py",
   "mimetype": "text/x-python",
   "name": "python",
   "nbconvert_exporter": "python",
   "pygments_lexer": "ipython3",
   "version": "3.8.8"
  }
 },
 "nbformat": 4,
 "nbformat_minor": 5
}
